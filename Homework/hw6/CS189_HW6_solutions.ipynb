{
  "nbformat": 4,
  "nbformat_minor": 0,
  "metadata": {
    "colab": {
      "name": "CS189 HW6 solutions.ipynb",
      "provenance": [],
      "collapsed_sections": []
    },
    "kernelspec": {
      "display_name": "Python 3",
      "name": "python3"
    },
    "language_info": {
      "name": "python"
    },
    "widgets": {
      "application/vnd.jupyter.widget-state+json": {
        "46f5341d46bf48a68e66cfa36d099288": {
          "model_module": "@jupyter-widgets/controls",
          "model_name": "HBoxModel",
          "model_module_version": "1.5.0",
          "state": {
            "_view_name": "HBoxView",
            "_dom_classes": [],
            "_model_name": "HBoxModel",
            "_view_module": "@jupyter-widgets/controls",
            "_model_module_version": "1.5.0",
            "_view_count": null,
            "_view_module_version": "1.5.0",
            "box_style": "",
            "layout": "IPY_MODEL_21e30b99bfc44ee48f8cedee0bd10f2b",
            "_model_module": "@jupyter-widgets/controls",
            "children": [
              "IPY_MODEL_be5cf7fdae6b4fcf90e4a7a5dee44218",
              "IPY_MODEL_5057a0bd8d7b4e859d37ff09cb72f193",
              "IPY_MODEL_b098e050727d420cbefdf9cdbf6e4d26"
            ]
          }
        },
        "21e30b99bfc44ee48f8cedee0bd10f2b": {
          "model_module": "@jupyter-widgets/base",
          "model_name": "LayoutModel",
          "model_module_version": "1.2.0",
          "state": {
            "_view_name": "LayoutView",
            "grid_template_rows": null,
            "right": null,
            "justify_content": null,
            "_view_module": "@jupyter-widgets/base",
            "overflow": null,
            "_model_module_version": "1.2.0",
            "_view_count": null,
            "flex_flow": null,
            "width": null,
            "min_width": null,
            "border": null,
            "align_items": null,
            "bottom": null,
            "_model_module": "@jupyter-widgets/base",
            "top": null,
            "grid_column": null,
            "overflow_y": null,
            "overflow_x": null,
            "grid_auto_flow": null,
            "grid_area": null,
            "grid_template_columns": null,
            "flex": null,
            "_model_name": "LayoutModel",
            "justify_items": null,
            "grid_row": null,
            "max_height": null,
            "align_content": null,
            "visibility": null,
            "align_self": null,
            "height": null,
            "min_height": null,
            "padding": null,
            "grid_auto_rows": null,
            "grid_gap": null,
            "max_width": null,
            "order": null,
            "_view_module_version": "1.2.0",
            "grid_template_areas": null,
            "object_position": null,
            "object_fit": null,
            "grid_auto_columns": null,
            "margin": null,
            "display": null,
            "left": null
          }
        },
        "be5cf7fdae6b4fcf90e4a7a5dee44218": {
          "model_module": "@jupyter-widgets/controls",
          "model_name": "HTMLModel",
          "model_module_version": "1.5.0",
          "state": {
            "_view_name": "HTMLView",
            "style": "IPY_MODEL_0394a69f763f4ba4906a0124895db134",
            "_dom_classes": [],
            "description": "",
            "_model_name": "HTMLModel",
            "placeholder": "​",
            "_view_module": "@jupyter-widgets/controls",
            "_model_module_version": "1.5.0",
            "value": "",
            "_view_count": null,
            "_view_module_version": "1.5.0",
            "description_tooltip": null,
            "_model_module": "@jupyter-widgets/controls",
            "layout": "IPY_MODEL_443dc80b3fbb4a9799cd34f6c1a19efc"
          }
        },
        "5057a0bd8d7b4e859d37ff09cb72f193": {
          "model_module": "@jupyter-widgets/controls",
          "model_name": "FloatProgressModel",
          "model_module_version": "1.5.0",
          "state": {
            "_view_name": "ProgressView",
            "style": "IPY_MODEL_0eee6f73df4446f68be02b0cdea548be",
            "_dom_classes": [],
            "description": "",
            "_model_name": "FloatProgressModel",
            "bar_style": "success",
            "max": 9912422,
            "_view_module": "@jupyter-widgets/controls",
            "_model_module_version": "1.5.0",
            "value": 9912422,
            "_view_count": null,
            "_view_module_version": "1.5.0",
            "orientation": "horizontal",
            "min": 0,
            "description_tooltip": null,
            "_model_module": "@jupyter-widgets/controls",
            "layout": "IPY_MODEL_9abbc013f10c47f884c18585c837561f"
          }
        },
        "b098e050727d420cbefdf9cdbf6e4d26": {
          "model_module": "@jupyter-widgets/controls",
          "model_name": "HTMLModel",
          "model_module_version": "1.5.0",
          "state": {
            "_view_name": "HTMLView",
            "style": "IPY_MODEL_ae497868784448f0bc4c9189d0cdc98e",
            "_dom_classes": [],
            "description": "",
            "_model_name": "HTMLModel",
            "placeholder": "​",
            "_view_module": "@jupyter-widgets/controls",
            "_model_module_version": "1.5.0",
            "value": " 9913344/? [00:00&lt;00:00, 15978798.88it/s]",
            "_view_count": null,
            "_view_module_version": "1.5.0",
            "description_tooltip": null,
            "_model_module": "@jupyter-widgets/controls",
            "layout": "IPY_MODEL_346ecb3e63834b22b2163a19e15fce59"
          }
        },
        "0394a69f763f4ba4906a0124895db134": {
          "model_module": "@jupyter-widgets/controls",
          "model_name": "DescriptionStyleModel",
          "model_module_version": "1.5.0",
          "state": {
            "_view_name": "StyleView",
            "_model_name": "DescriptionStyleModel",
            "description_width": "",
            "_view_module": "@jupyter-widgets/base",
            "_model_module_version": "1.5.0",
            "_view_count": null,
            "_view_module_version": "1.2.0",
            "_model_module": "@jupyter-widgets/controls"
          }
        },
        "443dc80b3fbb4a9799cd34f6c1a19efc": {
          "model_module": "@jupyter-widgets/base",
          "model_name": "LayoutModel",
          "model_module_version": "1.2.0",
          "state": {
            "_view_name": "LayoutView",
            "grid_template_rows": null,
            "right": null,
            "justify_content": null,
            "_view_module": "@jupyter-widgets/base",
            "overflow": null,
            "_model_module_version": "1.2.0",
            "_view_count": null,
            "flex_flow": null,
            "width": null,
            "min_width": null,
            "border": null,
            "align_items": null,
            "bottom": null,
            "_model_module": "@jupyter-widgets/base",
            "top": null,
            "grid_column": null,
            "overflow_y": null,
            "overflow_x": null,
            "grid_auto_flow": null,
            "grid_area": null,
            "grid_template_columns": null,
            "flex": null,
            "_model_name": "LayoutModel",
            "justify_items": null,
            "grid_row": null,
            "max_height": null,
            "align_content": null,
            "visibility": null,
            "align_self": null,
            "height": null,
            "min_height": null,
            "padding": null,
            "grid_auto_rows": null,
            "grid_gap": null,
            "max_width": null,
            "order": null,
            "_view_module_version": "1.2.0",
            "grid_template_areas": null,
            "object_position": null,
            "object_fit": null,
            "grid_auto_columns": null,
            "margin": null,
            "display": null,
            "left": null
          }
        },
        "0eee6f73df4446f68be02b0cdea548be": {
          "model_module": "@jupyter-widgets/controls",
          "model_name": "ProgressStyleModel",
          "model_module_version": "1.5.0",
          "state": {
            "_view_name": "StyleView",
            "_model_name": "ProgressStyleModel",
            "description_width": "",
            "_view_module": "@jupyter-widgets/base",
            "_model_module_version": "1.5.0",
            "_view_count": null,
            "_view_module_version": "1.2.0",
            "bar_color": null,
            "_model_module": "@jupyter-widgets/controls"
          }
        },
        "9abbc013f10c47f884c18585c837561f": {
          "model_module": "@jupyter-widgets/base",
          "model_name": "LayoutModel",
          "model_module_version": "1.2.0",
          "state": {
            "_view_name": "LayoutView",
            "grid_template_rows": null,
            "right": null,
            "justify_content": null,
            "_view_module": "@jupyter-widgets/base",
            "overflow": null,
            "_model_module_version": "1.2.0",
            "_view_count": null,
            "flex_flow": null,
            "width": null,
            "min_width": null,
            "border": null,
            "align_items": null,
            "bottom": null,
            "_model_module": "@jupyter-widgets/base",
            "top": null,
            "grid_column": null,
            "overflow_y": null,
            "overflow_x": null,
            "grid_auto_flow": null,
            "grid_area": null,
            "grid_template_columns": null,
            "flex": null,
            "_model_name": "LayoutModel",
            "justify_items": null,
            "grid_row": null,
            "max_height": null,
            "align_content": null,
            "visibility": null,
            "align_self": null,
            "height": null,
            "min_height": null,
            "padding": null,
            "grid_auto_rows": null,
            "grid_gap": null,
            "max_width": null,
            "order": null,
            "_view_module_version": "1.2.0",
            "grid_template_areas": null,
            "object_position": null,
            "object_fit": null,
            "grid_auto_columns": null,
            "margin": null,
            "display": null,
            "left": null
          }
        },
        "ae497868784448f0bc4c9189d0cdc98e": {
          "model_module": "@jupyter-widgets/controls",
          "model_name": "DescriptionStyleModel",
          "model_module_version": "1.5.0",
          "state": {
            "_view_name": "StyleView",
            "_model_name": "DescriptionStyleModel",
            "description_width": "",
            "_view_module": "@jupyter-widgets/base",
            "_model_module_version": "1.5.0",
            "_view_count": null,
            "_view_module_version": "1.2.0",
            "_model_module": "@jupyter-widgets/controls"
          }
        },
        "346ecb3e63834b22b2163a19e15fce59": {
          "model_module": "@jupyter-widgets/base",
          "model_name": "LayoutModel",
          "model_module_version": "1.2.0",
          "state": {
            "_view_name": "LayoutView",
            "grid_template_rows": null,
            "right": null,
            "justify_content": null,
            "_view_module": "@jupyter-widgets/base",
            "overflow": null,
            "_model_module_version": "1.2.0",
            "_view_count": null,
            "flex_flow": null,
            "width": null,
            "min_width": null,
            "border": null,
            "align_items": null,
            "bottom": null,
            "_model_module": "@jupyter-widgets/base",
            "top": null,
            "grid_column": null,
            "overflow_y": null,
            "overflow_x": null,
            "grid_auto_flow": null,
            "grid_area": null,
            "grid_template_columns": null,
            "flex": null,
            "_model_name": "LayoutModel",
            "justify_items": null,
            "grid_row": null,
            "max_height": null,
            "align_content": null,
            "visibility": null,
            "align_self": null,
            "height": null,
            "min_height": null,
            "padding": null,
            "grid_auto_rows": null,
            "grid_gap": null,
            "max_width": null,
            "order": null,
            "_view_module_version": "1.2.0",
            "grid_template_areas": null,
            "object_position": null,
            "object_fit": null,
            "grid_auto_columns": null,
            "margin": null,
            "display": null,
            "left": null
          }
        },
        "0a97c2cf8f6446a5a9f6a55af021e1b4": {
          "model_module": "@jupyter-widgets/controls",
          "model_name": "HBoxModel",
          "model_module_version": "1.5.0",
          "state": {
            "_view_name": "HBoxView",
            "_dom_classes": [],
            "_model_name": "HBoxModel",
            "_view_module": "@jupyter-widgets/controls",
            "_model_module_version": "1.5.0",
            "_view_count": null,
            "_view_module_version": "1.5.0",
            "box_style": "",
            "layout": "IPY_MODEL_0d7b21ff42424ee0b42593d243b3edc8",
            "_model_module": "@jupyter-widgets/controls",
            "children": [
              "IPY_MODEL_f5fac08478e1412b9f39b1bc3aa2c040",
              "IPY_MODEL_220a6aca9d9945038323b94d6967b54a",
              "IPY_MODEL_c44c9d0cd1bc48a1a0b5e3c8ba3402bf"
            ]
          }
        },
        "0d7b21ff42424ee0b42593d243b3edc8": {
          "model_module": "@jupyter-widgets/base",
          "model_name": "LayoutModel",
          "model_module_version": "1.2.0",
          "state": {
            "_view_name": "LayoutView",
            "grid_template_rows": null,
            "right": null,
            "justify_content": null,
            "_view_module": "@jupyter-widgets/base",
            "overflow": null,
            "_model_module_version": "1.2.0",
            "_view_count": null,
            "flex_flow": null,
            "width": null,
            "min_width": null,
            "border": null,
            "align_items": null,
            "bottom": null,
            "_model_module": "@jupyter-widgets/base",
            "top": null,
            "grid_column": null,
            "overflow_y": null,
            "overflow_x": null,
            "grid_auto_flow": null,
            "grid_area": null,
            "grid_template_columns": null,
            "flex": null,
            "_model_name": "LayoutModel",
            "justify_items": null,
            "grid_row": null,
            "max_height": null,
            "align_content": null,
            "visibility": null,
            "align_self": null,
            "height": null,
            "min_height": null,
            "padding": null,
            "grid_auto_rows": null,
            "grid_gap": null,
            "max_width": null,
            "order": null,
            "_view_module_version": "1.2.0",
            "grid_template_areas": null,
            "object_position": null,
            "object_fit": null,
            "grid_auto_columns": null,
            "margin": null,
            "display": null,
            "left": null
          }
        },
        "f5fac08478e1412b9f39b1bc3aa2c040": {
          "model_module": "@jupyter-widgets/controls",
          "model_name": "HTMLModel",
          "model_module_version": "1.5.0",
          "state": {
            "_view_name": "HTMLView",
            "style": "IPY_MODEL_021d1023fc8d441aa381a8e5ddd3a722",
            "_dom_classes": [],
            "description": "",
            "_model_name": "HTMLModel",
            "placeholder": "​",
            "_view_module": "@jupyter-widgets/controls",
            "_model_module_version": "1.5.0",
            "value": "",
            "_view_count": null,
            "_view_module_version": "1.5.0",
            "description_tooltip": null,
            "_model_module": "@jupyter-widgets/controls",
            "layout": "IPY_MODEL_f7d220d3e1554e1da6fc3a7e49b3b209"
          }
        },
        "220a6aca9d9945038323b94d6967b54a": {
          "model_module": "@jupyter-widgets/controls",
          "model_name": "FloatProgressModel",
          "model_module_version": "1.5.0",
          "state": {
            "_view_name": "ProgressView",
            "style": "IPY_MODEL_69bb9cab719f49c38cb22e71b65a73e4",
            "_dom_classes": [],
            "description": "",
            "_model_name": "FloatProgressModel",
            "bar_style": "success",
            "max": 28881,
            "_view_module": "@jupyter-widgets/controls",
            "_model_module_version": "1.5.0",
            "value": 28881,
            "_view_count": null,
            "_view_module_version": "1.5.0",
            "orientation": "horizontal",
            "min": 0,
            "description_tooltip": null,
            "_model_module": "@jupyter-widgets/controls",
            "layout": "IPY_MODEL_5c42af26ece142af8ae3cbfefcc01409"
          }
        },
        "c44c9d0cd1bc48a1a0b5e3c8ba3402bf": {
          "model_module": "@jupyter-widgets/controls",
          "model_name": "HTMLModel",
          "model_module_version": "1.5.0",
          "state": {
            "_view_name": "HTMLView",
            "style": "IPY_MODEL_d8715e9ec80f450194c04ec426f5c049",
            "_dom_classes": [],
            "description": "",
            "_model_name": "HTMLModel",
            "placeholder": "​",
            "_view_module": "@jupyter-widgets/controls",
            "_model_module_version": "1.5.0",
            "value": " 29696/? [00:00&lt;00:00, 657475.08it/s]",
            "_view_count": null,
            "_view_module_version": "1.5.0",
            "description_tooltip": null,
            "_model_module": "@jupyter-widgets/controls",
            "layout": "IPY_MODEL_26c5aece899641f49e1bb6ece741885a"
          }
        },
        "021d1023fc8d441aa381a8e5ddd3a722": {
          "model_module": "@jupyter-widgets/controls",
          "model_name": "DescriptionStyleModel",
          "model_module_version": "1.5.0",
          "state": {
            "_view_name": "StyleView",
            "_model_name": "DescriptionStyleModel",
            "description_width": "",
            "_view_module": "@jupyter-widgets/base",
            "_model_module_version": "1.5.0",
            "_view_count": null,
            "_view_module_version": "1.2.0",
            "_model_module": "@jupyter-widgets/controls"
          }
        },
        "f7d220d3e1554e1da6fc3a7e49b3b209": {
          "model_module": "@jupyter-widgets/base",
          "model_name": "LayoutModel",
          "model_module_version": "1.2.0",
          "state": {
            "_view_name": "LayoutView",
            "grid_template_rows": null,
            "right": null,
            "justify_content": null,
            "_view_module": "@jupyter-widgets/base",
            "overflow": null,
            "_model_module_version": "1.2.0",
            "_view_count": null,
            "flex_flow": null,
            "width": null,
            "min_width": null,
            "border": null,
            "align_items": null,
            "bottom": null,
            "_model_module": "@jupyter-widgets/base",
            "top": null,
            "grid_column": null,
            "overflow_y": null,
            "overflow_x": null,
            "grid_auto_flow": null,
            "grid_area": null,
            "grid_template_columns": null,
            "flex": null,
            "_model_name": "LayoutModel",
            "justify_items": null,
            "grid_row": null,
            "max_height": null,
            "align_content": null,
            "visibility": null,
            "align_self": null,
            "height": null,
            "min_height": null,
            "padding": null,
            "grid_auto_rows": null,
            "grid_gap": null,
            "max_width": null,
            "order": null,
            "_view_module_version": "1.2.0",
            "grid_template_areas": null,
            "object_position": null,
            "object_fit": null,
            "grid_auto_columns": null,
            "margin": null,
            "display": null,
            "left": null
          }
        },
        "69bb9cab719f49c38cb22e71b65a73e4": {
          "model_module": "@jupyter-widgets/controls",
          "model_name": "ProgressStyleModel",
          "model_module_version": "1.5.0",
          "state": {
            "_view_name": "StyleView",
            "_model_name": "ProgressStyleModel",
            "description_width": "",
            "_view_module": "@jupyter-widgets/base",
            "_model_module_version": "1.5.0",
            "_view_count": null,
            "_view_module_version": "1.2.0",
            "bar_color": null,
            "_model_module": "@jupyter-widgets/controls"
          }
        },
        "5c42af26ece142af8ae3cbfefcc01409": {
          "model_module": "@jupyter-widgets/base",
          "model_name": "LayoutModel",
          "model_module_version": "1.2.0",
          "state": {
            "_view_name": "LayoutView",
            "grid_template_rows": null,
            "right": null,
            "justify_content": null,
            "_view_module": "@jupyter-widgets/base",
            "overflow": null,
            "_model_module_version": "1.2.0",
            "_view_count": null,
            "flex_flow": null,
            "width": null,
            "min_width": null,
            "border": null,
            "align_items": null,
            "bottom": null,
            "_model_module": "@jupyter-widgets/base",
            "top": null,
            "grid_column": null,
            "overflow_y": null,
            "overflow_x": null,
            "grid_auto_flow": null,
            "grid_area": null,
            "grid_template_columns": null,
            "flex": null,
            "_model_name": "LayoutModel",
            "justify_items": null,
            "grid_row": null,
            "max_height": null,
            "align_content": null,
            "visibility": null,
            "align_self": null,
            "height": null,
            "min_height": null,
            "padding": null,
            "grid_auto_rows": null,
            "grid_gap": null,
            "max_width": null,
            "order": null,
            "_view_module_version": "1.2.0",
            "grid_template_areas": null,
            "object_position": null,
            "object_fit": null,
            "grid_auto_columns": null,
            "margin": null,
            "display": null,
            "left": null
          }
        },
        "d8715e9ec80f450194c04ec426f5c049": {
          "model_module": "@jupyter-widgets/controls",
          "model_name": "DescriptionStyleModel",
          "model_module_version": "1.5.0",
          "state": {
            "_view_name": "StyleView",
            "_model_name": "DescriptionStyleModel",
            "description_width": "",
            "_view_module": "@jupyter-widgets/base",
            "_model_module_version": "1.5.0",
            "_view_count": null,
            "_view_module_version": "1.2.0",
            "_model_module": "@jupyter-widgets/controls"
          }
        },
        "26c5aece899641f49e1bb6ece741885a": {
          "model_module": "@jupyter-widgets/base",
          "model_name": "LayoutModel",
          "model_module_version": "1.2.0",
          "state": {
            "_view_name": "LayoutView",
            "grid_template_rows": null,
            "right": null,
            "justify_content": null,
            "_view_module": "@jupyter-widgets/base",
            "overflow": null,
            "_model_module_version": "1.2.0",
            "_view_count": null,
            "flex_flow": null,
            "width": null,
            "min_width": null,
            "border": null,
            "align_items": null,
            "bottom": null,
            "_model_module": "@jupyter-widgets/base",
            "top": null,
            "grid_column": null,
            "overflow_y": null,
            "overflow_x": null,
            "grid_auto_flow": null,
            "grid_area": null,
            "grid_template_columns": null,
            "flex": null,
            "_model_name": "LayoutModel",
            "justify_items": null,
            "grid_row": null,
            "max_height": null,
            "align_content": null,
            "visibility": null,
            "align_self": null,
            "height": null,
            "min_height": null,
            "padding": null,
            "grid_auto_rows": null,
            "grid_gap": null,
            "max_width": null,
            "order": null,
            "_view_module_version": "1.2.0",
            "grid_template_areas": null,
            "object_position": null,
            "object_fit": null,
            "grid_auto_columns": null,
            "margin": null,
            "display": null,
            "left": null
          }
        },
        "d20a5f368c884541bf0db68e6c08bf0d": {
          "model_module": "@jupyter-widgets/controls",
          "model_name": "HBoxModel",
          "model_module_version": "1.5.0",
          "state": {
            "_view_name": "HBoxView",
            "_dom_classes": [],
            "_model_name": "HBoxModel",
            "_view_module": "@jupyter-widgets/controls",
            "_model_module_version": "1.5.0",
            "_view_count": null,
            "_view_module_version": "1.5.0",
            "box_style": "",
            "layout": "IPY_MODEL_b213ff575c974f6e8c4ccfa109322249",
            "_model_module": "@jupyter-widgets/controls",
            "children": [
              "IPY_MODEL_ea80b4feb8e44c798139c11e21f1c735",
              "IPY_MODEL_43b425bd080349b8ac51e61501458ce0",
              "IPY_MODEL_cfd723e5c0f048d58b0de49f0e33ca93"
            ]
          }
        },
        "b213ff575c974f6e8c4ccfa109322249": {
          "model_module": "@jupyter-widgets/base",
          "model_name": "LayoutModel",
          "model_module_version": "1.2.0",
          "state": {
            "_view_name": "LayoutView",
            "grid_template_rows": null,
            "right": null,
            "justify_content": null,
            "_view_module": "@jupyter-widgets/base",
            "overflow": null,
            "_model_module_version": "1.2.0",
            "_view_count": null,
            "flex_flow": null,
            "width": null,
            "min_width": null,
            "border": null,
            "align_items": null,
            "bottom": null,
            "_model_module": "@jupyter-widgets/base",
            "top": null,
            "grid_column": null,
            "overflow_y": null,
            "overflow_x": null,
            "grid_auto_flow": null,
            "grid_area": null,
            "grid_template_columns": null,
            "flex": null,
            "_model_name": "LayoutModel",
            "justify_items": null,
            "grid_row": null,
            "max_height": null,
            "align_content": null,
            "visibility": null,
            "align_self": null,
            "height": null,
            "min_height": null,
            "padding": null,
            "grid_auto_rows": null,
            "grid_gap": null,
            "max_width": null,
            "order": null,
            "_view_module_version": "1.2.0",
            "grid_template_areas": null,
            "object_position": null,
            "object_fit": null,
            "grid_auto_columns": null,
            "margin": null,
            "display": null,
            "left": null
          }
        },
        "ea80b4feb8e44c798139c11e21f1c735": {
          "model_module": "@jupyter-widgets/controls",
          "model_name": "HTMLModel",
          "model_module_version": "1.5.0",
          "state": {
            "_view_name": "HTMLView",
            "style": "IPY_MODEL_61e4438b2be34af7bca8788417eca302",
            "_dom_classes": [],
            "description": "",
            "_model_name": "HTMLModel",
            "placeholder": "​",
            "_view_module": "@jupyter-widgets/controls",
            "_model_module_version": "1.5.0",
            "value": "",
            "_view_count": null,
            "_view_module_version": "1.5.0",
            "description_tooltip": null,
            "_model_module": "@jupyter-widgets/controls",
            "layout": "IPY_MODEL_628d62ab9b884c5e91ad506fa4d5a27f"
          }
        },
        "43b425bd080349b8ac51e61501458ce0": {
          "model_module": "@jupyter-widgets/controls",
          "model_name": "FloatProgressModel",
          "model_module_version": "1.5.0",
          "state": {
            "_view_name": "ProgressView",
            "style": "IPY_MODEL_3301da2dd9344dbca3cf9d675b6e417c",
            "_dom_classes": [],
            "description": "",
            "_model_name": "FloatProgressModel",
            "bar_style": "success",
            "max": 1648877,
            "_view_module": "@jupyter-widgets/controls",
            "_model_module_version": "1.5.0",
            "value": 1648877,
            "_view_count": null,
            "_view_module_version": "1.5.0",
            "orientation": "horizontal",
            "min": 0,
            "description_tooltip": null,
            "_model_module": "@jupyter-widgets/controls",
            "layout": "IPY_MODEL_9251e37aa2884f829316e9c118e58f9e"
          }
        },
        "cfd723e5c0f048d58b0de49f0e33ca93": {
          "model_module": "@jupyter-widgets/controls",
          "model_name": "HTMLModel",
          "model_module_version": "1.5.0",
          "state": {
            "_view_name": "HTMLView",
            "style": "IPY_MODEL_b2e5d90fc4a8440eac476bf50e4680b4",
            "_dom_classes": [],
            "description": "",
            "_model_name": "HTMLModel",
            "placeholder": "​",
            "_view_module": "@jupyter-widgets/controls",
            "_model_module_version": "1.5.0",
            "value": " 1649664/? [00:00&lt;00:00, 7778545.47it/s]",
            "_view_count": null,
            "_view_module_version": "1.5.0",
            "description_tooltip": null,
            "_model_module": "@jupyter-widgets/controls",
            "layout": "IPY_MODEL_8a37376c0ef643af9e7d711df108f6b4"
          }
        },
        "61e4438b2be34af7bca8788417eca302": {
          "model_module": "@jupyter-widgets/controls",
          "model_name": "DescriptionStyleModel",
          "model_module_version": "1.5.0",
          "state": {
            "_view_name": "StyleView",
            "_model_name": "DescriptionStyleModel",
            "description_width": "",
            "_view_module": "@jupyter-widgets/base",
            "_model_module_version": "1.5.0",
            "_view_count": null,
            "_view_module_version": "1.2.0",
            "_model_module": "@jupyter-widgets/controls"
          }
        },
        "628d62ab9b884c5e91ad506fa4d5a27f": {
          "model_module": "@jupyter-widgets/base",
          "model_name": "LayoutModel",
          "model_module_version": "1.2.0",
          "state": {
            "_view_name": "LayoutView",
            "grid_template_rows": null,
            "right": null,
            "justify_content": null,
            "_view_module": "@jupyter-widgets/base",
            "overflow": null,
            "_model_module_version": "1.2.0",
            "_view_count": null,
            "flex_flow": null,
            "width": null,
            "min_width": null,
            "border": null,
            "align_items": null,
            "bottom": null,
            "_model_module": "@jupyter-widgets/base",
            "top": null,
            "grid_column": null,
            "overflow_y": null,
            "overflow_x": null,
            "grid_auto_flow": null,
            "grid_area": null,
            "grid_template_columns": null,
            "flex": null,
            "_model_name": "LayoutModel",
            "justify_items": null,
            "grid_row": null,
            "max_height": null,
            "align_content": null,
            "visibility": null,
            "align_self": null,
            "height": null,
            "min_height": null,
            "padding": null,
            "grid_auto_rows": null,
            "grid_gap": null,
            "max_width": null,
            "order": null,
            "_view_module_version": "1.2.0",
            "grid_template_areas": null,
            "object_position": null,
            "object_fit": null,
            "grid_auto_columns": null,
            "margin": null,
            "display": null,
            "left": null
          }
        },
        "3301da2dd9344dbca3cf9d675b6e417c": {
          "model_module": "@jupyter-widgets/controls",
          "model_name": "ProgressStyleModel",
          "model_module_version": "1.5.0",
          "state": {
            "_view_name": "StyleView",
            "_model_name": "ProgressStyleModel",
            "description_width": "",
            "_view_module": "@jupyter-widgets/base",
            "_model_module_version": "1.5.0",
            "_view_count": null,
            "_view_module_version": "1.2.0",
            "bar_color": null,
            "_model_module": "@jupyter-widgets/controls"
          }
        },
        "9251e37aa2884f829316e9c118e58f9e": {
          "model_module": "@jupyter-widgets/base",
          "model_name": "LayoutModel",
          "model_module_version": "1.2.0",
          "state": {
            "_view_name": "LayoutView",
            "grid_template_rows": null,
            "right": null,
            "justify_content": null,
            "_view_module": "@jupyter-widgets/base",
            "overflow": null,
            "_model_module_version": "1.2.0",
            "_view_count": null,
            "flex_flow": null,
            "width": null,
            "min_width": null,
            "border": null,
            "align_items": null,
            "bottom": null,
            "_model_module": "@jupyter-widgets/base",
            "top": null,
            "grid_column": null,
            "overflow_y": null,
            "overflow_x": null,
            "grid_auto_flow": null,
            "grid_area": null,
            "grid_template_columns": null,
            "flex": null,
            "_model_name": "LayoutModel",
            "justify_items": null,
            "grid_row": null,
            "max_height": null,
            "align_content": null,
            "visibility": null,
            "align_self": null,
            "height": null,
            "min_height": null,
            "padding": null,
            "grid_auto_rows": null,
            "grid_gap": null,
            "max_width": null,
            "order": null,
            "_view_module_version": "1.2.0",
            "grid_template_areas": null,
            "object_position": null,
            "object_fit": null,
            "grid_auto_columns": null,
            "margin": null,
            "display": null,
            "left": null
          }
        },
        "b2e5d90fc4a8440eac476bf50e4680b4": {
          "model_module": "@jupyter-widgets/controls",
          "model_name": "DescriptionStyleModel",
          "model_module_version": "1.5.0",
          "state": {
            "_view_name": "StyleView",
            "_model_name": "DescriptionStyleModel",
            "description_width": "",
            "_view_module": "@jupyter-widgets/base",
            "_model_module_version": "1.5.0",
            "_view_count": null,
            "_view_module_version": "1.2.0",
            "_model_module": "@jupyter-widgets/controls"
          }
        },
        "8a37376c0ef643af9e7d711df108f6b4": {
          "model_module": "@jupyter-widgets/base",
          "model_name": "LayoutModel",
          "model_module_version": "1.2.0",
          "state": {
            "_view_name": "LayoutView",
            "grid_template_rows": null,
            "right": null,
            "justify_content": null,
            "_view_module": "@jupyter-widgets/base",
            "overflow": null,
            "_model_module_version": "1.2.0",
            "_view_count": null,
            "flex_flow": null,
            "width": null,
            "min_width": null,
            "border": null,
            "align_items": null,
            "bottom": null,
            "_model_module": "@jupyter-widgets/base",
            "top": null,
            "grid_column": null,
            "overflow_y": null,
            "overflow_x": null,
            "grid_auto_flow": null,
            "grid_area": null,
            "grid_template_columns": null,
            "flex": null,
            "_model_name": "LayoutModel",
            "justify_items": null,
            "grid_row": null,
            "max_height": null,
            "align_content": null,
            "visibility": null,
            "align_self": null,
            "height": null,
            "min_height": null,
            "padding": null,
            "grid_auto_rows": null,
            "grid_gap": null,
            "max_width": null,
            "order": null,
            "_view_module_version": "1.2.0",
            "grid_template_areas": null,
            "object_position": null,
            "object_fit": null,
            "grid_auto_columns": null,
            "margin": null,
            "display": null,
            "left": null
          }
        },
        "7c21c3250ba94fb4a85ca2ee5dae4d98": {
          "model_module": "@jupyter-widgets/controls",
          "model_name": "HBoxModel",
          "model_module_version": "1.5.0",
          "state": {
            "_view_name": "HBoxView",
            "_dom_classes": [],
            "_model_name": "HBoxModel",
            "_view_module": "@jupyter-widgets/controls",
            "_model_module_version": "1.5.0",
            "_view_count": null,
            "_view_module_version": "1.5.0",
            "box_style": "",
            "layout": "IPY_MODEL_a7e409f26a084b3f8088274f9e63c238",
            "_model_module": "@jupyter-widgets/controls",
            "children": [
              "IPY_MODEL_fc4a450a1d224149b126dc856f3c4284",
              "IPY_MODEL_f1b2cd40432a49e8ac78af6c3200179e",
              "IPY_MODEL_9a0511f760cc44369a2979ac9ae72a43"
            ]
          }
        },
        "a7e409f26a084b3f8088274f9e63c238": {
          "model_module": "@jupyter-widgets/base",
          "model_name": "LayoutModel",
          "model_module_version": "1.2.0",
          "state": {
            "_view_name": "LayoutView",
            "grid_template_rows": null,
            "right": null,
            "justify_content": null,
            "_view_module": "@jupyter-widgets/base",
            "overflow": null,
            "_model_module_version": "1.2.0",
            "_view_count": null,
            "flex_flow": null,
            "width": null,
            "min_width": null,
            "border": null,
            "align_items": null,
            "bottom": null,
            "_model_module": "@jupyter-widgets/base",
            "top": null,
            "grid_column": null,
            "overflow_y": null,
            "overflow_x": null,
            "grid_auto_flow": null,
            "grid_area": null,
            "grid_template_columns": null,
            "flex": null,
            "_model_name": "LayoutModel",
            "justify_items": null,
            "grid_row": null,
            "max_height": null,
            "align_content": null,
            "visibility": null,
            "align_self": null,
            "height": null,
            "min_height": null,
            "padding": null,
            "grid_auto_rows": null,
            "grid_gap": null,
            "max_width": null,
            "order": null,
            "_view_module_version": "1.2.0",
            "grid_template_areas": null,
            "object_position": null,
            "object_fit": null,
            "grid_auto_columns": null,
            "margin": null,
            "display": null,
            "left": null
          }
        },
        "fc4a450a1d224149b126dc856f3c4284": {
          "model_module": "@jupyter-widgets/controls",
          "model_name": "HTMLModel",
          "model_module_version": "1.5.0",
          "state": {
            "_view_name": "HTMLView",
            "style": "IPY_MODEL_857960f26c3a4405838b2a3cf0f31d22",
            "_dom_classes": [],
            "description": "",
            "_model_name": "HTMLModel",
            "placeholder": "​",
            "_view_module": "@jupyter-widgets/controls",
            "_model_module_version": "1.5.0",
            "value": "",
            "_view_count": null,
            "_view_module_version": "1.5.0",
            "description_tooltip": null,
            "_model_module": "@jupyter-widgets/controls",
            "layout": "IPY_MODEL_75141fdf2a75404f821de465bb9ccbeb"
          }
        },
        "f1b2cd40432a49e8ac78af6c3200179e": {
          "model_module": "@jupyter-widgets/controls",
          "model_name": "FloatProgressModel",
          "model_module_version": "1.5.0",
          "state": {
            "_view_name": "ProgressView",
            "style": "IPY_MODEL_3337d50bc01f4182853424a559520db0",
            "_dom_classes": [],
            "description": "",
            "_model_name": "FloatProgressModel",
            "bar_style": "success",
            "max": 4542,
            "_view_module": "@jupyter-widgets/controls",
            "_model_module_version": "1.5.0",
            "value": 4542,
            "_view_count": null,
            "_view_module_version": "1.5.0",
            "orientation": "horizontal",
            "min": 0,
            "description_tooltip": null,
            "_model_module": "@jupyter-widgets/controls",
            "layout": "IPY_MODEL_beb8257684e642e6aeb990f9e5b983fe"
          }
        },
        "9a0511f760cc44369a2979ac9ae72a43": {
          "model_module": "@jupyter-widgets/controls",
          "model_name": "HTMLModel",
          "model_module_version": "1.5.0",
          "state": {
            "_view_name": "HTMLView",
            "style": "IPY_MODEL_ce0d385ba72145988de9da146e9b2273",
            "_dom_classes": [],
            "description": "",
            "_model_name": "HTMLModel",
            "placeholder": "​",
            "_view_module": "@jupyter-widgets/controls",
            "_model_module_version": "1.5.0",
            "value": " 5120/? [00:00&lt;00:00, 105016.05it/s]",
            "_view_count": null,
            "_view_module_version": "1.5.0",
            "description_tooltip": null,
            "_model_module": "@jupyter-widgets/controls",
            "layout": "IPY_MODEL_cd036ce2840a4b8fa8a18c3189e41c38"
          }
        },
        "857960f26c3a4405838b2a3cf0f31d22": {
          "model_module": "@jupyter-widgets/controls",
          "model_name": "DescriptionStyleModel",
          "model_module_version": "1.5.0",
          "state": {
            "_view_name": "StyleView",
            "_model_name": "DescriptionStyleModel",
            "description_width": "",
            "_view_module": "@jupyter-widgets/base",
            "_model_module_version": "1.5.0",
            "_view_count": null,
            "_view_module_version": "1.2.0",
            "_model_module": "@jupyter-widgets/controls"
          }
        },
        "75141fdf2a75404f821de465bb9ccbeb": {
          "model_module": "@jupyter-widgets/base",
          "model_name": "LayoutModel",
          "model_module_version": "1.2.0",
          "state": {
            "_view_name": "LayoutView",
            "grid_template_rows": null,
            "right": null,
            "justify_content": null,
            "_view_module": "@jupyter-widgets/base",
            "overflow": null,
            "_model_module_version": "1.2.0",
            "_view_count": null,
            "flex_flow": null,
            "width": null,
            "min_width": null,
            "border": null,
            "align_items": null,
            "bottom": null,
            "_model_module": "@jupyter-widgets/base",
            "top": null,
            "grid_column": null,
            "overflow_y": null,
            "overflow_x": null,
            "grid_auto_flow": null,
            "grid_area": null,
            "grid_template_columns": null,
            "flex": null,
            "_model_name": "LayoutModel",
            "justify_items": null,
            "grid_row": null,
            "max_height": null,
            "align_content": null,
            "visibility": null,
            "align_self": null,
            "height": null,
            "min_height": null,
            "padding": null,
            "grid_auto_rows": null,
            "grid_gap": null,
            "max_width": null,
            "order": null,
            "_view_module_version": "1.2.0",
            "grid_template_areas": null,
            "object_position": null,
            "object_fit": null,
            "grid_auto_columns": null,
            "margin": null,
            "display": null,
            "left": null
          }
        },
        "3337d50bc01f4182853424a559520db0": {
          "model_module": "@jupyter-widgets/controls",
          "model_name": "ProgressStyleModel",
          "model_module_version": "1.5.0",
          "state": {
            "_view_name": "StyleView",
            "_model_name": "ProgressStyleModel",
            "description_width": "",
            "_view_module": "@jupyter-widgets/base",
            "_model_module_version": "1.5.0",
            "_view_count": null,
            "_view_module_version": "1.2.0",
            "bar_color": null,
            "_model_module": "@jupyter-widgets/controls"
          }
        },
        "beb8257684e642e6aeb990f9e5b983fe": {
          "model_module": "@jupyter-widgets/base",
          "model_name": "LayoutModel",
          "model_module_version": "1.2.0",
          "state": {
            "_view_name": "LayoutView",
            "grid_template_rows": null,
            "right": null,
            "justify_content": null,
            "_view_module": "@jupyter-widgets/base",
            "overflow": null,
            "_model_module_version": "1.2.0",
            "_view_count": null,
            "flex_flow": null,
            "width": null,
            "min_width": null,
            "border": null,
            "align_items": null,
            "bottom": null,
            "_model_module": "@jupyter-widgets/base",
            "top": null,
            "grid_column": null,
            "overflow_y": null,
            "overflow_x": null,
            "grid_auto_flow": null,
            "grid_area": null,
            "grid_template_columns": null,
            "flex": null,
            "_model_name": "LayoutModel",
            "justify_items": null,
            "grid_row": null,
            "max_height": null,
            "align_content": null,
            "visibility": null,
            "align_self": null,
            "height": null,
            "min_height": null,
            "padding": null,
            "grid_auto_rows": null,
            "grid_gap": null,
            "max_width": null,
            "order": null,
            "_view_module_version": "1.2.0",
            "grid_template_areas": null,
            "object_position": null,
            "object_fit": null,
            "grid_auto_columns": null,
            "margin": null,
            "display": null,
            "left": null
          }
        },
        "ce0d385ba72145988de9da146e9b2273": {
          "model_module": "@jupyter-widgets/controls",
          "model_name": "DescriptionStyleModel",
          "model_module_version": "1.5.0",
          "state": {
            "_view_name": "StyleView",
            "_model_name": "DescriptionStyleModel",
            "description_width": "",
            "_view_module": "@jupyter-widgets/base",
            "_model_module_version": "1.5.0",
            "_view_count": null,
            "_view_module_version": "1.2.0",
            "_model_module": "@jupyter-widgets/controls"
          }
        },
        "cd036ce2840a4b8fa8a18c3189e41c38": {
          "model_module": "@jupyter-widgets/base",
          "model_name": "LayoutModel",
          "model_module_version": "1.2.0",
          "state": {
            "_view_name": "LayoutView",
            "grid_template_rows": null,
            "right": null,
            "justify_content": null,
            "_view_module": "@jupyter-widgets/base",
            "overflow": null,
            "_model_module_version": "1.2.0",
            "_view_count": null,
            "flex_flow": null,
            "width": null,
            "min_width": null,
            "border": null,
            "align_items": null,
            "bottom": null,
            "_model_module": "@jupyter-widgets/base",
            "top": null,
            "grid_column": null,
            "overflow_y": null,
            "overflow_x": null,
            "grid_auto_flow": null,
            "grid_area": null,
            "grid_template_columns": null,
            "flex": null,
            "_model_name": "LayoutModel",
            "justify_items": null,
            "grid_row": null,
            "max_height": null,
            "align_content": null,
            "visibility": null,
            "align_self": null,
            "height": null,
            "min_height": null,
            "padding": null,
            "grid_auto_rows": null,
            "grid_gap": null,
            "max_width": null,
            "order": null,
            "_view_module_version": "1.2.0",
            "grid_template_areas": null,
            "object_position": null,
            "object_fit": null,
            "grid_auto_columns": null,
            "margin": null,
            "display": null,
            "left": null
          }
        }
      }
    },
    "accelerator": "GPU"
  },
  "cells": [
    {
      "cell_type": "markdown",
      "metadata": {
        "id": "ufmHMbThnWEs"
      },
      "source": [
        "# Problem 2: MNIST: Hand-written digit classification"
      ]
    },
    {
      "cell_type": "code",
      "metadata": {
        "id": "bSnMFngy9sPA"
      },
      "source": [
        "import numpy as np\n",
        "import matplotlib.pyplot as plt\n",
        "%matplotlib inline\n",
        "\n",
        "import torch\n",
        "import torch.nn as nn\n",
        "import torch.nn.functional as F\n",
        "from torchvision import datasets, transforms"
      ],
      "execution_count": null,
      "outputs": []
    },
    {
      "cell_type": "markdown",
      "metadata": {
        "id": "zwocJbzfnZv5"
      },
      "source": [
        "## Loading MNIST\n",
        "The `torchvision` module contains links to many standard datasets. We can load the MNIST dataset into a `Dataset` object as follows:"
      ]
    },
    {
      "cell_type": "code",
      "metadata": {
        "id": "6NUqKdYrFpXA",
        "colab": {
          "base_uri": "https://localhost:8080/",
          "height": 417,
          "referenced_widgets": [
            "46f5341d46bf48a68e66cfa36d099288",
            "21e30b99bfc44ee48f8cedee0bd10f2b",
            "be5cf7fdae6b4fcf90e4a7a5dee44218",
            "5057a0bd8d7b4e859d37ff09cb72f193",
            "b098e050727d420cbefdf9cdbf6e4d26",
            "0394a69f763f4ba4906a0124895db134",
            "443dc80b3fbb4a9799cd34f6c1a19efc",
            "0eee6f73df4446f68be02b0cdea548be",
            "9abbc013f10c47f884c18585c837561f",
            "ae497868784448f0bc4c9189d0cdc98e",
            "346ecb3e63834b22b2163a19e15fce59",
            "0a97c2cf8f6446a5a9f6a55af021e1b4",
            "0d7b21ff42424ee0b42593d243b3edc8",
            "f5fac08478e1412b9f39b1bc3aa2c040",
            "220a6aca9d9945038323b94d6967b54a",
            "c44c9d0cd1bc48a1a0b5e3c8ba3402bf",
            "021d1023fc8d441aa381a8e5ddd3a722",
            "f7d220d3e1554e1da6fc3a7e49b3b209",
            "69bb9cab719f49c38cb22e71b65a73e4",
            "5c42af26ece142af8ae3cbfefcc01409",
            "d8715e9ec80f450194c04ec426f5c049",
            "26c5aece899641f49e1bb6ece741885a",
            "d20a5f368c884541bf0db68e6c08bf0d",
            "b213ff575c974f6e8c4ccfa109322249",
            "ea80b4feb8e44c798139c11e21f1c735",
            "43b425bd080349b8ac51e61501458ce0",
            "cfd723e5c0f048d58b0de49f0e33ca93",
            "61e4438b2be34af7bca8788417eca302",
            "628d62ab9b884c5e91ad506fa4d5a27f",
            "3301da2dd9344dbca3cf9d675b6e417c",
            "9251e37aa2884f829316e9c118e58f9e",
            "b2e5d90fc4a8440eac476bf50e4680b4",
            "8a37376c0ef643af9e7d711df108f6b4",
            "7c21c3250ba94fb4a85ca2ee5dae4d98",
            "a7e409f26a084b3f8088274f9e63c238",
            "fc4a450a1d224149b126dc856f3c4284",
            "f1b2cd40432a49e8ac78af6c3200179e",
            "9a0511f760cc44369a2979ac9ae72a43",
            "857960f26c3a4405838b2a3cf0f31d22",
            "75141fdf2a75404f821de465bb9ccbeb",
            "3337d50bc01f4182853424a559520db0",
            "beb8257684e642e6aeb990f9e5b983fe",
            "ce0d385ba72145988de9da146e9b2273",
            "cd036ce2840a4b8fa8a18c3189e41c38"
          ]
        },
        "outputId": "55295d5e-e28c-422a-beb6-b1062ca30eb0"
      },
      "source": [
        "train_dataset = datasets.MNIST('./data', train=True, download=True,  # Downloads into a directory ../data\n",
        "                               transform=transforms.ToTensor())\n",
        "train_dataset, valid_dataset = torch.utils.data.random_split(train_dataset, \n",
        "                                                             [int(len(train_dataset)*0.8), int(len(train_dataset)*0.2)], \n",
        "                                                             generator=torch.Generator().manual_seed(42))\n",
        "test_dataset = datasets.MNIST('./data', train=False, download=False,  # No need to download again\n",
        "                              transform=transforms.ToTensor())"
      ],
      "execution_count": null,
      "outputs": [
        {
          "output_type": "stream",
          "name": "stdout",
          "text": [
            "Downloading http://yann.lecun.com/exdb/mnist/train-images-idx3-ubyte.gz\n",
            "Downloading http://yann.lecun.com/exdb/mnist/train-images-idx3-ubyte.gz to ./data/MNIST/raw/train-images-idx3-ubyte.gz\n"
          ]
        },
        {
          "output_type": "display_data",
          "data": {
            "application/vnd.jupyter.widget-view+json": {
              "model_id": "46f5341d46bf48a68e66cfa36d099288",
              "version_minor": 0,
              "version_major": 2
            },
            "text/plain": [
              "  0%|          | 0/9912422 [00:00<?, ?it/s]"
            ]
          },
          "metadata": {}
        },
        {
          "output_type": "stream",
          "name": "stdout",
          "text": [
            "Extracting ./data/MNIST/raw/train-images-idx3-ubyte.gz to ./data/MNIST/raw\n",
            "\n",
            "Downloading http://yann.lecun.com/exdb/mnist/train-labels-idx1-ubyte.gz\n",
            "Downloading http://yann.lecun.com/exdb/mnist/train-labels-idx1-ubyte.gz to ./data/MNIST/raw/train-labels-idx1-ubyte.gz\n"
          ]
        },
        {
          "output_type": "display_data",
          "data": {
            "application/vnd.jupyter.widget-view+json": {
              "model_id": "0a97c2cf8f6446a5a9f6a55af021e1b4",
              "version_minor": 0,
              "version_major": 2
            },
            "text/plain": [
              "  0%|          | 0/28881 [00:00<?, ?it/s]"
            ]
          },
          "metadata": {}
        },
        {
          "output_type": "stream",
          "name": "stdout",
          "text": [
            "Extracting ./data/MNIST/raw/train-labels-idx1-ubyte.gz to ./data/MNIST/raw\n",
            "\n",
            "Downloading http://yann.lecun.com/exdb/mnist/t10k-images-idx3-ubyte.gz\n",
            "Downloading http://yann.lecun.com/exdb/mnist/t10k-images-idx3-ubyte.gz to ./data/MNIST/raw/t10k-images-idx3-ubyte.gz\n"
          ]
        },
        {
          "output_type": "display_data",
          "data": {
            "application/vnd.jupyter.widget-view+json": {
              "model_id": "d20a5f368c884541bf0db68e6c08bf0d",
              "version_minor": 0,
              "version_major": 2
            },
            "text/plain": [
              "  0%|          | 0/1648877 [00:00<?, ?it/s]"
            ]
          },
          "metadata": {}
        },
        {
          "output_type": "stream",
          "name": "stdout",
          "text": [
            "Extracting ./data/MNIST/raw/t10k-images-idx3-ubyte.gz to ./data/MNIST/raw\n",
            "\n",
            "Downloading http://yann.lecun.com/exdb/mnist/t10k-labels-idx1-ubyte.gz\n",
            "Downloading http://yann.lecun.com/exdb/mnist/t10k-labels-idx1-ubyte.gz to ./data/MNIST/raw/t10k-labels-idx1-ubyte.gz\n"
          ]
        },
        {
          "output_type": "display_data",
          "data": {
            "application/vnd.jupyter.widget-view+json": {
              "model_id": "7c21c3250ba94fb4a85ca2ee5dae4d98",
              "version_minor": 0,
              "version_major": 2
            },
            "text/plain": [
              "  0%|          | 0/4542 [00:00<?, ?it/s]"
            ]
          },
          "metadata": {}
        },
        {
          "output_type": "stream",
          "name": "stdout",
          "text": [
            "Extracting ./data/MNIST/raw/t10k-labels-idx1-ubyte.gz to ./data/MNIST/raw\n",
            "\n"
          ]
        }
      ]
    },
    {
      "cell_type": "markdown",
      "metadata": {
        "id": "dPRWRI-TomP7"
      },
      "source": [
        "The `Dataset` object is an iterable where each element is a tuple of (input `Tensor`, target):"
      ]
    },
    {
      "cell_type": "code",
      "metadata": {
        "colab": {
          "base_uri": "https://localhost:8080/"
        },
        "id": "4Y1oIfzooiLa",
        "outputId": "80095a5b-bb80-4179-9659-f96bac38cc95"
      },
      "source": [
        "print(len(train_dataset), len(valid_dataset), len(test_dataset), type(train_dataset[0][0]), type(train_dataset[0][1]))"
      ],
      "execution_count": null,
      "outputs": [
        {
          "output_type": "stream",
          "name": "stdout",
          "text": [
            "48000 12000 10000 <class 'torch.Tensor'> <class 'int'>\n"
          ]
        }
      ]
    },
    {
      "cell_type": "markdown",
      "metadata": {
        "id": "q8Gf22fNovo_"
      },
      "source": [
        "We can convert images to numpy arrays and plot them with matplotlib:"
      ]
    },
    {
      "cell_type": "code",
      "metadata": {
        "colab": {
          "base_uri": "https://localhost:8080/",
          "height": 282
        },
        "id": "l7RZ_f05oohA",
        "outputId": "4722fc31-289d-4061-b7aa-83a0ca4ed523"
      },
      "source": [
        "plt.imshow(train_dataset[0][0][0].numpy(), cmap='gray')"
      ],
      "execution_count": null,
      "outputs": [
        {
          "output_type": "execute_result",
          "data": {
            "text/plain": [
              "<matplotlib.image.AxesImage at 0x7f538e070090>"
            ]
          },
          "metadata": {},
          "execution_count": 5
        },
        {
          "output_type": "display_data",
          "data": {
            "image/png": "[encoded data removed]",
            "text/plain": [
              "<Figure size 432x288 with 1 Axes>"
            ]
          },
          "metadata": {
            "needs_background": "light"
          }
        }
      ]
    },
    {
      "cell_type": "markdown",
      "metadata": {
        "id": "hmKx25zZo7C6"
      },
      "source": [
        "## Example linear model\n",
        "Let's instantiate a linear model and take a look at the layers."
      ]
    },
    {
      "cell_type": "code",
      "metadata": {
        "colab": {
          "base_uri": "https://localhost:8080/"
        },
        "id": "kPskp-x3oxNN",
        "outputId": "a8b722a2-b335-4f53-ceb0-201228ae4914"
      },
      "source": [
        "model = nn.Sequential(\n",
        "    # For fully-connected networks, we don't use the 2D structure of an image at all. Our network\n",
        "    # takes in a flat vector of the pixel values as input.\n",
        "    nn.Flatten(),  \n",
        "    nn.Linear(784, 10),\n",
        ")\n",
        "print(model)"
      ],
      "execution_count": null,
      "outputs": [
        {
          "output_type": "stream",
          "name": "stdout",
          "text": [
            "Sequential(\n",
            "  (0): Flatten(start_dim=1, end_dim=-1)\n",
            "  (1): Linear(in_features=784, out_features=10, bias=True)\n",
            ")\n"
          ]
        }
      ]
    },
    {
      "cell_type": "markdown",
      "metadata": {
        "id": "2mTmn0zWGBU2"
      },
      "source": [
        "## Training and validation\n",
        "\n",
        "Now let's try to train the linear model as an example."
      ]
    },
    {
      "cell_type": "code",
      "metadata": {
        "id": "ZtFhoE5sGEb9"
      },
      "source": [
        "def run_training_loop(model, batch_size=32, n_epochs=10, lr=1e-3):\n",
        "\n",
        "    # We could write our training procedure manually and directly index the `Dataset` objects,\n",
        "    # but the `DataLoader` object conveniently creates an iterable for automatically creating random minibatches:\n",
        "    train_loader = torch.utils.data.DataLoader(train_dataset, batch_size=batch_size, shuffle=True)\n",
        "    valid_loader = torch.utils.data.DataLoader(valid_dataset, batch_size=batch_size, shuffle=True)\n",
        "\n",
        "    # Choose Adam as the optimizer\n",
        "    optimizer = torch.optim.Adam(model.parameters(), lr=lr)\n",
        "\n",
        "    # Use the cross entropy loss function\n",
        "    loss_fn = nn.CrossEntropyLoss()\n",
        "\n",
        "    # store metrics\n",
        "    train_loss_history = np.zeros([n_epochs, 1])\n",
        "    valid_accuracy_history = np.zeros([n_epochs, 1])\n",
        "    valid_loss_history = np.zeros([n_epochs, 1])\n",
        "\n",
        "    for epoch in range(n_epochs):\n",
        "\n",
        "        # Some layers, such as Dropout, behave differently during training\n",
        "        model.train()\n",
        "\n",
        "        train_loss = 0\n",
        "        for batch_idx, (data, target) in enumerate(train_loader):\n",
        "\n",
        "            # Erase accumulated gradients\n",
        "            optimizer.zero_grad()\n",
        "\n",
        "            # Forward pass\n",
        "            output = model(data)\n",
        "\n",
        "            # Calculate loss\n",
        "            loss = loss_fn(output, target)\n",
        "            train_loss += loss.item()\n",
        "\n",
        "            # Backward pass\n",
        "            loss.backward()\n",
        "            \n",
        "            # Weight update\n",
        "            optimizer.step()\n",
        "\n",
        "        train_loss_history[epoch] = train_loss / len(train_loader.dataset)\n",
        "\n",
        "        # Track loss each epoch\n",
        "        print('Train Epoch: %d  Average loss: %.4f' %\n",
        "              (epoch + 1,  train_loss_history[epoch]))\n",
        "\n",
        "        # Putting layers like Dropout into evaluation mode\n",
        "        model.eval()\n",
        "\n",
        "        valid_loss = 0\n",
        "        correct = 0\n",
        "\n",
        "        # Turning off automatic differentiation\n",
        "        with torch.no_grad():\n",
        "            for data, target in valid_loader:\n",
        "                output = model(data)\n",
        "                valid_loss += loss_fn(output, target).item()  # Sum up batch loss\n",
        "                pred = output.argmax(dim=1, keepdim=True)  # Get the index of the max class score\n",
        "                correct += pred.eq(target.view_as(pred)).sum().item()\n",
        "\n",
        "        valid_loss_history[epoch] = valid_loss / len(valid_loader.dataset)\n",
        "        valid_accuracy_history[epoch] = correct / len(valid_loader.dataset)\n",
        "\n",
        "        print('Valid set: Average loss: %.4f, Accuracy: %d/%d (%.4f)\\n' %\n",
        "              (valid_loss_history[epoch], correct, len(valid_loader.dataset),\n",
        "              100. * valid_accuracy_history[epoch]))\n",
        "    \n",
        "    return model, train_loss_history, valid_loss_history, valid_accuracy_history"
      ],
      "execution_count": null,
      "outputs": []
    },
    {
      "cell_type": "code",
      "metadata": {
        "colab": {
          "base_uri": "https://localhost:8080/",
          "height": 775
        },
        "id": "evRxrDb-VJFk",
        "outputId": "38b78a5e-d158-42b3-b385-c558ab5ba3c2"
      },
      "source": [
        "trained_model, train_loss_history, valid_loss_history, valid_accuracy_history = run_training_loop(model)\n",
        "plt.plot(train_loss_history, label='train')\n",
        "plt.plot(valid_loss_history, label='valid')\n",
        "plt.legend()\n",
        "plt.show()"
      ],
      "execution_count": null,
      "outputs": [
        {
          "output_type": "stream",
          "name": "stdout",
          "text": [
            "Train Epoch: 1  Average loss: 0.0155\n",
            "Valid set: Average loss: 0.0107, Accuracy: 10876/12000 (90.6333)\n",
            "\n",
            "Train Epoch: 2  Average loss: 0.0097\n",
            "Valid set: Average loss: 0.0099, Accuracy: 10929/12000 (91.0750)\n",
            "\n",
            "Train Epoch: 3  Average loss: 0.0089\n",
            "Valid set: Average loss: 0.0094, Accuracy: 10977/12000 (91.4750)\n",
            "\n",
            "Train Epoch: 4  Average loss: 0.0085\n",
            "Valid set: Average loss: 0.0094, Accuracy: 11009/12000 (91.7417)\n",
            "\n",
            "Train Epoch: 5  Average loss: 0.0083\n",
            "Valid set: Average loss: 0.0093, Accuracy: 10990/12000 (91.5833)\n",
            "\n",
            "Train Epoch: 6  Average loss: 0.0081\n",
            "Valid set: Average loss: 0.0094, Accuracy: 10974/12000 (91.4500)\n",
            "\n",
            "Train Epoch: 7  Average loss: 0.0080\n",
            "Valid set: Average loss: 0.0093, Accuracy: 10999/12000 (91.6583)\n",
            "\n",
            "Train Epoch: 8  Average loss: 0.0079\n",
            "Valid set: Average loss: 0.0092, Accuracy: 11031/12000 (91.9250)\n",
            "\n",
            "Train Epoch: 9  Average loss: 0.0078\n",
            "Valid set: Average loss: 0.0092, Accuracy: 11050/12000 (92.0833)\n",
            "\n",
            "Train Epoch: 10  Average loss: 0.0077\n",
            "Valid set: Average loss: 0.0092, Accuracy: 11034/12000 (91.9500)\n",
            "\n"
          ]
        },
        {
          "output_type": "display_data",
          "data": {
            "image/png": "[encoded data removed]",
            "text/plain": [
              "<Figure size 432x288 with 1 Axes>"
            ]
          },
          "metadata": {
            "needs_background": "light"
          }
        }
      ]
    },
    {
      "cell_type": "markdown",
      "metadata": {
        "id": "Uk38yQyirQEW"
      },
      "source": [
        "## Testing\n",
        "After selecting hyperparameters from the validation set, evaluate on the held-out test set (distinct from the validation set)."
      ]
    },
    {
      "cell_type": "code",
      "metadata": {
        "id": "E9rwgEpNGUyJ"
      },
      "source": [
        "def test_performance(model, batch_size=32):\n",
        "    test_loader = torch.utils.data.DataLoader(test_dataset, batch_size=batch_size, shuffle=True) \n",
        "\n",
        "    # Putting layers like Dropout into evaluation mode\n",
        "    model.eval()\n",
        "    # Use the cross entropy loss function\n",
        "    loss_fn = nn.CrossEntropyLoss()\n",
        "\n",
        "    test_loss = 0\n",
        "    correct = 0\n",
        "\n",
        "    # Turning off automatic differentiation\n",
        "    with torch.no_grad():\n",
        "        for data, target in test_loader:\n",
        "            output = model(data)\n",
        "            test_loss += loss_fn(output, target).item()  # Sum up batch loss\n",
        "            pred = output.argmax(dim=1, keepdim=True)  # Get the index of the max class score\n",
        "            correct += pred.eq(target.view_as(pred)).sum().item()\n",
        "\n",
        "    test_loss /= len(test_loader.dataset)\n",
        "    test_accuracy = correct / len(test_loader.dataset)\n",
        "\n",
        "    print('Test set: Average loss: %.4f, Accuracy: %d/%d (%.4f)' %\n",
        "          (test_loss, correct, len(test_loader.dataset),\n",
        "          100. * test_accuracy))\n",
        "    return test_loss, test_accuracy"
      ],
      "execution_count": null,
      "outputs": []
    },
    {
      "cell_type": "code",
      "metadata": {
        "colab": {
          "base_uri": "https://localhost:8080/"
        },
        "id": "QWN_AItsGWPd",
        "outputId": "5107e522-3086-4d31-c17d-d5138348f76b"
      },
      "source": [
        "test_performance(model)"
      ],
      "execution_count": null,
      "outputs": [
        {
          "output_type": "stream",
          "name": "stdout",
          "text": [
            "Test set: Average loss: 0.0084, Accuracy: 9261/10000 (92.6100)\n"
          ]
        },
        {
          "output_type": "execute_result",
          "data": {
            "text/plain": [
              "(0.008421745701879263, 0.9261)"
            ]
          },
          "metadata": {},
          "execution_count": 10
        }
      ]
    },
    {
      "cell_type": "markdown",
      "metadata": {
        "id": "V9-FidZsGd__"
      },
      "source": [
        "Not bad! Even the linear model gets above 92% accuracy."
      ]
    },
    {
      "cell_type": "markdown",
      "metadata": {
        "id": "jlSez9XVGnc9"
      },
      "source": [
        "## Visualizing predictions\n",
        "\n",
        "We can visualize and inspect the model predictions. Here is an example of how to visualize the wrongly classified cases among the first 20 validation examples."
      ]
    },
    {
      "cell_type": "code",
      "metadata": {
        "colab": {
          "base_uri": "https://localhost:8080/",
          "height": 545
        },
        "id": "OX6auNyhGqTZ",
        "outputId": "8cc7144c-2469-48ed-edba-1aa311fc9435"
      },
      "source": [
        "# Putting layers like Dropout into evaluation mode\n",
        "model.eval()\n",
        "\n",
        "# Turning off automatic differentiation\n",
        "with torch.no_grad():\n",
        "      for i in range(20):\n",
        "        data, target = valid_dataset[i]\n",
        "        output = model(data)\n",
        "        pred = output.argmax(dim=1, keepdim=True)  # Get the index of the max class score\n",
        "        if pred.item() != target:\n",
        "            plt.imshow(data[0].numpy(), cmap='gray')\n",
        "            plt.title(f'Predicted: {pred.item()}')\n",
        "            plt.show()"
      ],
      "execution_count": null,
      "outputs": [
        {
          "output_type": "display_data",
          "data": {
            "image/png": "[encoded data removed]",
            "text/plain": [
              "<Figure size 432x288 with 1 Axes>"
            ]
          },
          "metadata": {
            "needs_background": "light"
          }
        },
        {
          "output_type": "display_data",
          "data": {
            "image/png": "[encoded data removed]",
            "text/plain": [
              "<Figure size 432x288 with 1 Axes>"
            ]
          },
          "metadata": {
            "needs_background": "light"
          }
        }
      ]
    },
    {
      "cell_type": "markdown",
      "metadata": {
        "id": "Gp2rPfwVGvGG"
      },
      "source": [
        "# Your code: 2 (b)"
      ]
    },
    {
      "cell_type": "code",
      "metadata": {
        "id": "TaH2mCHeGxQO"
      },
      "source": [
        "model = nn.Sequential(\n",
        "    # In problem 2, we don't use the 2D structure of an image at all. Our network\n",
        "    # takes in a flat vector of the pixel values as input.\n",
        "    nn.Flatten(),  \n",
        "    nn.Linear(784, 100),\n",
        "    nn.ReLU(),\n",
        "    nn.Dropout(0.1),\n",
        "    nn.Linear(100, 100),\n",
        "    nn.ReLU(),\n",
        "    nn.Dropout(0.1),\n",
        "    nn.Linear(100, 10)\n",
        ")\n"
      ],
      "execution_count": null,
      "outputs": []
    },
    {
      "cell_type": "code",
      "metadata": {
        "colab": {
          "base_uri": "https://localhost:8080/",
          "height": 809
        },
        "id": "R3qabsPEG0bx",
        "outputId": "798879b2-62d7-4128-81aa-b5d9648dad62"
      },
      "source": [
        "trained_model, train_loss_history, valid_loss_history, valid_accuracy_history = run_training_loop(model)\n",
        "plt.plot(train_loss_history, label='train')\n",
        "plt.plot(valid_loss_history, label='valid')\n",
        "plt.legend()\n",
        "plt.show()\n",
        "\n",
        "test_performance(model)"
      ],
      "execution_count": null,
      "outputs": [
        {
          "output_type": "stream",
          "name": "stdout",
          "text": [
            "Train Epoch: 1  Average loss: 0.0108\n",
            "Valid set: Average loss: 0.0054, Accuracy: 11359/12000 (94.6583)\n",
            "\n",
            "Train Epoch: 2  Average loss: 0.0047\n",
            "Valid set: Average loss: 0.0038, Accuracy: 11539/12000 (96.1583)\n",
            "\n",
            "Train Epoch: 3  Average loss: 0.0036\n",
            "Valid set: Average loss: 0.0034, Accuracy: 11604/12000 (96.7000)\n",
            "\n",
            "Train Epoch: 4  Average loss: 0.0028\n",
            "Valid set: Average loss: 0.0033, Accuracy: 11622/12000 (96.8500)\n",
            "\n",
            "Train Epoch: 5  Average loss: 0.0024\n",
            "Valid set: Average loss: 0.0031, Accuracy: 11646/12000 (97.0500)\n",
            "\n",
            "Train Epoch: 6  Average loss: 0.0021\n",
            "Valid set: Average loss: 0.0031, Accuracy: 11672/12000 (97.2667)\n",
            "\n",
            "Train Epoch: 7  Average loss: 0.0019\n",
            "Valid set: Average loss: 0.0028, Accuracy: 11684/12000 (97.3667)\n",
            "\n",
            "Train Epoch: 8  Average loss: 0.0018\n",
            "Valid set: Average loss: 0.0030, Accuracy: 11679/12000 (97.3250)\n",
            "\n",
            "Train Epoch: 9  Average loss: 0.0015\n",
            "Valid set: Average loss: 0.0030, Accuracy: 11692/12000 (97.4333)\n",
            "\n",
            "Train Epoch: 10  Average loss: 0.0014\n",
            "Valid set: Average loss: 0.0030, Accuracy: 11695/12000 (97.4583)\n",
            "\n"
          ]
        },
        {
          "output_type": "display_data",
          "data": {
            "image/png": "[encoded data removed]",
            "text/plain": [
              "<Figure size 432x288 with 1 Axes>"
            ]
          },
          "metadata": {
            "needs_background": "light"
          }
        },
        {
          "output_type": "stream",
          "name": "stdout",
          "text": [
            "Test set: Average loss: 0.0025, Accuracy: 9753/10000 (97.5300)\n"
          ]
        },
        {
          "output_type": "execute_result",
          "data": {
            "text/plain": [
              "(0.0025156809893604076, 0.9753)"
            ]
          },
          "metadata": {},
          "execution_count": 13
        }
      ]
    },
    {
      "cell_type": "markdown",
      "metadata": {
        "id": "ckeznQGUAfSy"
      },
      "source": [
        "What to expect:\n",
        "Training for 10 epochs takes a few minutes\n",
        "- Starter code: accuracy 92.5%\n",
        "- Tuning down dropout to 0.1: accuracy 95.7%\n",
        "- Increasing width to 100 (still one layer): accuracy 97.7%\n",
        "- Adding a second hidden layer with width 100: accuracy 97.9%"
      ]
    },
    {
      "cell_type": "markdown",
      "metadata": {
        "id": "HCR12-oHHFHI"
      },
      "source": [
        "# Example code for convolutional neural networks"
      ]
    },
    {
      "cell_type": "code",
      "metadata": {
        "id": "pRoFt50GHP_z",
        "colab": {
          "base_uri": "https://localhost:8080/"
        },
        "outputId": "fe8418f8-38ff-45a3-9b6d-53cbe1a949ed"
      },
      "source": [
        "# sample model\n",
        "import torch.nn as nn\n",
        "\n",
        "model = nn.Sequential(\n",
        "    nn.Conv2d(1, 8, kernel_size=(8,8)),\n",
        "    nn.ReLU(),\n",
        "    nn.MaxPool2d(8),\n",
        "    nn.Dropout(p=0.5),\n",
        "    \n",
        "    nn.Flatten(),\n",
        "    nn.Linear(32, 64),\n",
        "    nn.ReLU(),\n",
        "    nn.Linear(64, 10)\n",
        "    # PyTorch implementation of cross-entropy loss includes softmax layer\n",
        ")\n",
        "\n",
        "# take a look at the shape of the weights for each layer\n",
        "for p in model.parameters():\n",
        "    print(p.data.shape)\n",
        "\n",
        "\n",
        "# our model has some # of parameters:\n",
        "count = 0\n",
        "for p in model.parameters():\n",
        "    n_params = np.prod(list(p.data.shape)).item()\n",
        "    count += n_params\n",
        "print(f'total params: {count}')"
      ],
      "execution_count": null,
      "outputs": [
        {
          "output_type": "stream",
          "name": "stdout",
          "text": [
            "torch.Size([8, 1, 8, 8])\n",
            "torch.Size([8])\n",
            "torch.Size([64, 32])\n",
            "torch.Size([64])\n",
            "torch.Size([10, 64])\n",
            "torch.Size([10])\n",
            "total params: 3282\n"
          ]
        }
      ]
    },
    {
      "cell_type": "code",
      "metadata": {
        "id": "aRoEpG1J4cRV",
        "colab": {
          "base_uri": "https://localhost:8080/",
          "height": 809
        },
        "outputId": "d4934de6-e551-4b35-ec56-b1d20e72b5c1"
      },
      "source": [
        "trained_model, train_loss_history, valid_loss_history, valid_accuracy_history = run_training_loop(model)\n",
        "plt.plot(train_loss_history, label='train')\n",
        "plt.plot(valid_loss_history, label='valid')\n",
        "plt.legend()\n",
        "plt.show()\n",
        "\n",
        "test_performance(model)"
      ],
      "execution_count": null,
      "outputs": [
        {
          "output_type": "stream",
          "name": "stdout",
          "text": [
            "Train Epoch: 1  Average loss: 0.0376\n",
            "Valid set: Average loss: 0.0171, Accuracy: 10308/12000 (85.9000)\n",
            "\n",
            "Train Epoch: 2  Average loss: 0.0257\n",
            "Valid set: Average loss: 0.0128, Accuracy: 10758/12000 (89.6500)\n",
            "\n",
            "Train Epoch: 3  Average loss: 0.0232\n",
            "Valid set: Average loss: 0.0116, Accuracy: 10871/12000 (90.5917)\n",
            "\n",
            "Train Epoch: 4  Average loss: 0.0219\n",
            "Valid set: Average loss: 0.0100, Accuracy: 10954/12000 (91.2833)\n",
            "\n",
            "Train Epoch: 5  Average loss: 0.0207\n",
            "Valid set: Average loss: 0.0098, Accuracy: 10974/12000 (91.4500)\n",
            "\n",
            "Train Epoch: 6  Average loss: 0.0202\n",
            "Valid set: Average loss: 0.0091, Accuracy: 11095/12000 (92.4583)\n",
            "\n",
            "Train Epoch: 7  Average loss: 0.0196\n",
            "Valid set: Average loss: 0.0090, Accuracy: 11050/12000 (92.0833)\n",
            "\n",
            "Train Epoch: 8  Average loss: 0.0190\n",
            "Valid set: Average loss: 0.0089, Accuracy: 11052/12000 (92.1000)\n",
            "\n",
            "Train Epoch: 9  Average loss: 0.0188\n",
            "Valid set: Average loss: 0.0088, Accuracy: 11081/12000 (92.3417)\n",
            "\n",
            "Train Epoch: 10  Average loss: 0.0182\n",
            "Valid set: Average loss: 0.0089, Accuracy: 11050/12000 (92.0833)\n",
            "\n"
          ]
        },
        {
          "output_type": "display_data",
          "data": {
            "image/png": "[encoded data removed]",
            "text/plain": [
              "<Figure size 432x288 with 1 Axes>"
            ]
          },
          "metadata": {
            "needs_background": "light"
          }
        },
        {
          "output_type": "stream",
          "name": "stdout",
          "text": [
            "Test set: Average loss: 0.0085, Accuracy: 9230/10000 (92.3000)\n"
          ]
        },
        {
          "output_type": "execute_result",
          "data": {
            "text/plain": [
              "(0.00850779461711645, 0.923)"
            ]
          },
          "metadata": {},
          "execution_count": 15
        }
      ]
    },
    {
      "cell_type": "markdown",
      "metadata": {
        "id": "OHI16r2D5DoJ"
      },
      "source": [
        "## Your code: 2 (c)"
      ]
    },
    {
      "cell_type": "code",
      "metadata": {
        "colab": {
          "base_uri": "https://localhost:8080/"
        },
        "id": "ILTGTFff5Bh6",
        "outputId": "3aee1b03-8b15-4344-e9f2-ba3f4516be08"
      },
      "source": [
        "model_conv = nn.Sequential(\n",
        "    nn.Conv2d(1, 8, kernel_size=(5, 5)),\n",
        "    nn.BatchNorm2d(8),\n",
        "    nn.ReLU(),\n",
        "    nn.Conv2d(8, 8, kernel_size=(5, 5)),\n",
        "    nn.BatchNorm2d(8),\n",
        "    nn.ReLU(),\n",
        "    nn.Conv2d(8, 8, kernel_size=(5, 5)),\n",
        "    nn.BatchNorm2d(8),\n",
        "    nn.ReLU(),\n",
        "    nn.MaxPool2d(8, stride=4),\n",
        "    nn.Dropout(p=0.2),\n",
        ")\n",
        "\n",
        "model_ff = nn.Sequential(\n",
        "    nn.Flatten(),\n",
        "    nn.Linear(8 * 3 * 3, 64),\n",
        "    nn.ReLU(),\n",
        "    nn.Linear(64, 10)\n",
        ")\n",
        "\n",
        "model = nn.Sequential(\n",
        "    model_conv,\n",
        "    model_ff\n",
        ")\n",
        "\n",
        "# make sure the # of parameters is under half a million\n",
        "count = 0\n",
        "for p in model.parameters():\n",
        "    n_params = np.prod(list(p.data.shape)).item()\n",
        "    count += n_params\n",
        "print(f'total params: {count}')"
      ],
      "execution_count": null,
      "outputs": [
        {
          "output_type": "stream",
          "name": "stdout",
          "text": [
            "total params: 8794\n"
          ]
        }
      ]
    },
    {
      "cell_type": "code",
      "metadata": {
        "colab": {
          "base_uri": "https://localhost:8080/",
          "height": 809
        },
        "id": "j2WNXNZf5KKG",
        "outputId": "c085af81-cce5-4ff9-a917-c44518c91819"
      },
      "source": [
        "trained_model, train_loss_history, valid_loss_history, valid_accuracy_history = run_training_loop(model)\n",
        "plt.plot(train_loss_history, label='train')\n",
        "plt.plot(valid_loss_history, label='valid')\n",
        "plt.legend()\n",
        "plt.show()\n",
        "\n",
        "test_performance(model)"
      ],
      "execution_count": null,
      "outputs": [
        {
          "output_type": "stream",
          "name": "stdout",
          "text": [
            "Train Epoch: 1  Average loss: 0.0109\n",
            "Valid set: Average loss: 0.0037, Accuracy: 11552/12000 (96.2667)\n",
            "\n",
            "Train Epoch: 2  Average loss: 0.0045\n",
            "Valid set: Average loss: 0.0028, Accuracy: 11666/12000 (97.2167)\n",
            "\n",
            "Train Epoch: 3  Average loss: 0.0036\n",
            "Valid set: Average loss: 0.0023, Accuracy: 11722/12000 (97.6833)\n",
            "\n",
            "Train Epoch: 4  Average loss: 0.0032\n",
            "Valid set: Average loss: 0.0021, Accuracy: 11741/12000 (97.8417)\n",
            "\n",
            "Train Epoch: 5  Average loss: 0.0028\n",
            "Valid set: Average loss: 0.0019, Accuracy: 11775/12000 (98.1250)\n",
            "\n",
            "Train Epoch: 6  Average loss: 0.0026\n",
            "Valid set: Average loss: 0.0018, Accuracy: 11788/12000 (98.2333)\n",
            "\n",
            "Train Epoch: 7  Average loss: 0.0024\n",
            "Valid set: Average loss: 0.0020, Accuracy: 11777/12000 (98.1417)\n",
            "\n",
            "Train Epoch: 8  Average loss: 0.0023\n",
            "Valid set: Average loss: 0.0017, Accuracy: 11806/12000 (98.3833)\n",
            "\n",
            "Train Epoch: 9  Average loss: 0.0022\n",
            "Valid set: Average loss: 0.0017, Accuracy: 11790/12000 (98.2500)\n",
            "\n",
            "Train Epoch: 10  Average loss: 0.0021\n",
            "Valid set: Average loss: 0.0016, Accuracy: 11814/12000 (98.4500)\n",
            "\n"
          ]
        },
        {
          "output_type": "display_data",
          "data": {
            "image/png": "[encoded data removed]",
            "text/plain": [
              "<Figure size 432x288 with 1 Axes>"
            ]
          },
          "metadata": {
            "needs_background": "light"
          }
        },
        {
          "output_type": "stream",
          "name": "stdout",
          "text": [
            "Test set: Average loss: 0.0012, Accuracy: 9878/10000 (98.7800)\n"
          ]
        },
        {
          "output_type": "execute_result",
          "data": {
            "text/plain": [
              "(0.0012071133732271847, 0.9878)"
            ]
          },
          "metadata": {},
          "execution_count": 17
        }
      ]
    },
    {
      "cell_type": "markdown",
      "metadata": {
        "id": "oqgPrXHFy3H6"
      },
      "source": [
        "# Problem 3: Vision Transformer"
      ]
    },
    {
      "cell_type": "code",
      "metadata": {
        "colab": {
          "base_uri": "https://localhost:8080/"
        },
        "id": "7FhfLUokzTbA",
        "outputId": "977ee35c-c9c5-4246-9d5c-4f7a262be0b3"
      },
      "source": [
        "!pip install einops\n",
        "\n",
        "import torch\n",
        "from torch import nn\n",
        "\n",
        "from einops import rearrange, repeat\n",
        "from einops.layers.torch import Rearrange"
      ],
      "execution_count": null,
      "outputs": [
        {
          "output_type": "stream",
          "name": "stdout",
          "text": [
            "Collecting einops\n",
            "  Downloading einops-0.3.2-py3-none-any.whl (25 kB)\n",
            "Installing collected packages: einops\n",
            "Successfully installed einops-0.3.2\n"
          ]
        }
      ]
    },
    {
      "cell_type": "markdown",
      "metadata": {
        "id": "m_AgjdU36P9O"
      },
      "source": [
        "## Your code: 3(a)\n",
        "\n",
        "Implement single-head attention."
      ]
    },
    {
      "cell_type": "code",
      "metadata": {
        "id": "vBgURvzV6Swk"
      },
      "source": [
        "class SingleHeadAttention(nn.Module):\n",
        "    def __init__(self, input_dim, inner_dim, dropout = 0.):\n",
        "        super().__init__()\n",
        "        # TODO\n",
        "        self.q = nn.Linear(input_dim, inner_dim)\n",
        "        self.k = nn.Linear(input_dim, inner_dim)\n",
        "        self.v = nn.Linear(input_dim, inner_dim)\n",
        "        self.dropout = nn.Dropout(p=dropout)\n",
        "        self.softmax = nn.Softmax(dim=-1)\n",
        "        self.d_k = inner_dim\n",
        "\n",
        "    def forward(self, x):\n",
        "        # TODO\n",
        "        Q = self.q(x)\n",
        "        K = self.k(x)\n",
        "        V = self.v(x)\n",
        "\n",
        "        attn_weights = self.softmax(torch.matmul(Q, torch.transpose(K, -2, -1)) / np.sqrt(self.d_k))\n",
        "        out = torch.matmul(attn_weights, V)\n",
        "        \n",
        "        out = self.dropout(out)\n",
        "\n",
        "        return out, attn_weights  # modification for attention visualization"
      ],
      "execution_count": null,
      "outputs": []
    },
    {
      "cell_type": "markdown",
      "metadata": {
        "id": "1uqJa_1mwrsn"
      },
      "source": [
        "Test the following multihead attention implementation that relies on the single-head attention implementation above."
      ]
    },
    {
      "cell_type": "code",
      "metadata": {
        "id": "DRgiyIAl6X8k"
      },
      "source": [
        "class Attention(nn.Module):\n",
        "    def __init__(self, dim, heads = 8, dim_head = 64, dropout = 0.):\n",
        "        super().__init__()\n",
        "        self.attention_heads = nn.ModuleList([\n",
        "            SingleHeadAttention(dim, dim_head, dropout=dropout)\n",
        "            for _ in range(heads)\n",
        "        ])\n",
        "\n",
        "    def forward(self, x):\n",
        "        # modification for attention visualization\n",
        "        outputs = [head(x) for head in self.attention_heads]\n",
        "        out = torch.cat([o[0] for o in outputs], dim=-1)\n",
        "        attn_weights = torch.stack([o[1] for o in outputs])\n",
        "        return out, attn_weights"
      ],
      "execution_count": null,
      "outputs": []
    },
    {
      "cell_type": "markdown",
      "metadata": {
        "id": "4JTVmWLOnQw5"
      },
      "source": [
        "Test code for multihead attention:"
      ]
    },
    {
      "cell_type": "code",
      "metadata": {
        "id": "SncLO5jZnQFv",
        "colab": {
          "base_uri": "https://localhost:8080/"
        },
        "outputId": "a822c711-679d-4e37-aa7f-ac445966ce86"
      },
      "source": [
        "T = 5\n",
        "input_dim = 32\n",
        "batch_size = 20\n",
        "\n",
        "heads = 8\n",
        "dim_head = 64\n",
        "\n",
        "test_input = torch.zeros((batch_size, T, input_dim))\n",
        "\n",
        "test_attention_module = Attention(input_dim)\n",
        "test_output, test_attn_weights = test_attention_module(test_input)\n",
        "\n",
        "print(test_output)\n",
        "assert test_output.size() == (batch_size, T, heads * dim_head), \"Shapes are incorrect\""
      ],
      "execution_count": null,
      "outputs": [
        {
          "output_type": "stream",
          "name": "stdout",
          "text": [
            "tensor([[[ 0.0708,  0.1007,  0.0581,  ...,  0.1649, -0.1065,  0.0593],\n",
            "         [ 0.0708,  0.1007,  0.0581,  ...,  0.1649, -0.1065,  0.0593],\n",
            "         [ 0.0708,  0.1007,  0.0581,  ...,  0.1649, -0.1065,  0.0593],\n",
            "         [ 0.0708,  0.1007,  0.0581,  ...,  0.1649, -0.1065,  0.0593],\n",
            "         [ 0.0708,  0.1007,  0.0581,  ...,  0.1649, -0.1065,  0.0593]],\n",
            "\n",
            "        [[ 0.0708,  0.1007,  0.0581,  ...,  0.1649, -0.1065,  0.0593],\n",
            "         [ 0.0708,  0.1007,  0.0581,  ...,  0.1649, -0.1065,  0.0593],\n",
            "         [ 0.0708,  0.1007,  0.0581,  ...,  0.1649, -0.1065,  0.0593],\n",
            "         [ 0.0708,  0.1007,  0.0581,  ...,  0.1649, -0.1065,  0.0593],\n",
            "         [ 0.0708,  0.1007,  0.0581,  ...,  0.1649, -0.1065,  0.0593]],\n",
            "\n",
            "        [[ 0.0708,  0.1007,  0.0581,  ...,  0.1649, -0.1065,  0.0593],\n",
            "         [ 0.0708,  0.1007,  0.0581,  ...,  0.1649, -0.1065,  0.0593],\n",
            "         [ 0.0708,  0.1007,  0.0581,  ...,  0.1649, -0.1065,  0.0593],\n",
            "         [ 0.0708,  0.1007,  0.0581,  ...,  0.1649, -0.1065,  0.0593],\n",
            "         [ 0.0708,  0.1007,  0.0581,  ...,  0.1649, -0.1065,  0.0593]],\n",
            "\n",
            "        ...,\n",
            "\n",
            "        [[ 0.0708,  0.1007,  0.0581,  ...,  0.1649, -0.1065,  0.0593],\n",
            "         [ 0.0708,  0.1007,  0.0581,  ...,  0.1649, -0.1065,  0.0593],\n",
            "         [ 0.0708,  0.1007,  0.0581,  ...,  0.1649, -0.1065,  0.0593],\n",
            "         [ 0.0708,  0.1007,  0.0581,  ...,  0.1649, -0.1065,  0.0593],\n",
            "         [ 0.0708,  0.1007,  0.0581,  ...,  0.1649, -0.1065,  0.0593]],\n",
            "\n",
            "        [[ 0.0708,  0.1007,  0.0581,  ...,  0.1649, -0.1065,  0.0593],\n",
            "         [ 0.0708,  0.1007,  0.0581,  ...,  0.1649, -0.1065,  0.0593],\n",
            "         [ 0.0708,  0.1007,  0.0581,  ...,  0.1649, -0.1065,  0.0593],\n",
            "         [ 0.0708,  0.1007,  0.0581,  ...,  0.1649, -0.1065,  0.0593],\n",
            "         [ 0.0708,  0.1007,  0.0581,  ...,  0.1649, -0.1065,  0.0593]],\n",
            "\n",
            "        [[ 0.0708,  0.1007,  0.0581,  ...,  0.1649, -0.1065,  0.0593],\n",
            "         [ 0.0708,  0.1007,  0.0581,  ...,  0.1649, -0.1065,  0.0593],\n",
            "         [ 0.0708,  0.1007,  0.0581,  ...,  0.1649, -0.1065,  0.0593],\n",
            "         [ 0.0708,  0.1007,  0.0581,  ...,  0.1649, -0.1065,  0.0593],\n",
            "         [ 0.0708,  0.1007,  0.0581,  ...,  0.1649, -0.1065,  0.0593]]],\n",
            "       grad_fn=<CatBackward0>)\n"
          ]
        }
      ]
    },
    {
      "cell_type": "code",
      "metadata": {
        "colab": {
          "base_uri": "https://localhost:8080/"
        },
        "id": "8v1zCC0soHlo",
        "outputId": "2ee1f9ff-bf73-4412-c7ba-69ceea0d2d4b"
      },
      "source": [
        "test_attn_weights.size()"
      ],
      "execution_count": null,
      "outputs": [
        {
          "output_type": "execute_result",
          "data": {
            "text/plain": [
              "torch.Size([8, 20, 5, 5])"
            ]
          },
          "metadata": {},
          "execution_count": 22
        }
      ]
    },
    {
      "cell_type": "markdown",
      "metadata": {
        "id": "h9pbMlS46cgF"
      },
      "source": [
        "## Your code: 3 (b)"
      ]
    },
    {
      "cell_type": "code",
      "metadata": {
        "id": "zTJOcjl66e2C"
      },
      "source": [
        "class ViTLayer(nn.Module):\n",
        "    def __init__(self, dim, heads, dim_head, mlp_dim, dropout = 0.):\n",
        "        super().__init__()\n",
        "        # modification for attention visualization\n",
        "        self.layernorm = nn.LayerNorm(dim)\n",
        "        self.attn_proj = nn.Linear(dim_head * heads, dim)\n",
        "        self.attn = Attention(dim, heads = heads, dim_head = dim_head, dropout = dropout)\n",
        "        self.feedforward = nn.Sequential(\n",
        "                nn.LayerNorm(dim),\n",
        "                nn.Linear(dim, mlp_dim),\n",
        "                nn.ReLU(),\n",
        "                nn.Dropout(dropout),\n",
        "                nn.Linear(mlp_dim, dim),\n",
        "                nn.Dropout(dropout)\n",
        "        )\n",
        "\n",
        "    def forward(self, x, *args):\n",
        "        dx, attn_weights = self.attn(self.layernorm(x))\n",
        "        x = x + self.attn_proj(dx)\n",
        "        x = self.feedforward(x) + x\n",
        "        return x, attn_weights\n"
      ],
      "execution_count": null,
      "outputs": []
    },
    {
      "cell_type": "markdown",
      "metadata": {
        "id": "B18OaSIn6iT8"
      },
      "source": [
        "# ViT code for 3 (c)"
      ]
    },
    {
      "cell_type": "code",
      "metadata": {
        "id": "jwC4oDBty3tw"
      },
      "source": [
        "class ViT(nn.Module):\n",
        "    def __init__(self, patch_size=7, dim=64, depth=6, heads=8, mlp_dim=128, \n",
        "                 dim_head = 64,\n",
        "                 dropout = 0., emb_dropout = 0.):\n",
        "        super().__init__()\n",
        "\n",
        "        image_height, image_width = 28, 28\n",
        "        num_classes = 10\n",
        "        channels = 1\n",
        "\n",
        "        patch_height = patch_size\n",
        "        patch_width = patch_size\n",
        "\n",
        "        assert image_height % patch_height == 0 and image_width % patch_width == 0, (\n",
        "            'Image dimensions must be divisible by the patch size.')\n",
        "\n",
        "        num_patches = (image_height // patch_height) * (image_width // patch_width)\n",
        "        patch_dim = channels * patch_height * patch_width\n",
        "\n",
        "        self.to_patch_embedding = nn.Sequential(\n",
        "            Rearrange('b c (h p1) (w p2) -> b (h w) (p1 p2 c)', p1 = patch_height, p2 = patch_width),\n",
        "            nn.Linear(patch_dim, dim),\n",
        "        )\n",
        "\n",
        "        self.pos_embedding = nn.Parameter(torch.randn(1, num_patches + 1, dim))\n",
        "        self.cls_token = nn.Parameter(torch.randn(1, 1, dim))\n",
        "        self.emb_dropout = nn.Dropout(emb_dropout)\n",
        "\n",
        "        self.transformer_layers = nn.ModuleList([\n",
        "            ViTLayer(dim, heads, dim_head, mlp_dim, dropout)\n",
        "            for _ in range(depth)                       \n",
        "        ])\n",
        "\n",
        "        self.mlp_head = nn.Sequential(\n",
        "            nn.LayerNorm(dim),\n",
        "            nn.Linear(dim, num_classes)\n",
        "        )\n",
        "\n",
        "    def forward(self, img, return_attn_weights=False):\n",
        "        x = self.to_patch_embedding(img)\n",
        "        b, n, _ = x.shape\n",
        "\n",
        "        cls_tokens = repeat(self.cls_token, '() n d -> b n d', b = b)\n",
        "        x = torch.cat((cls_tokens, x), dim=1)\n",
        "        x += self.pos_embedding[:, :(n + 1)]\n",
        "        x = self.emb_dropout(x)\n",
        "\n",
        "        for layer in self.transformer_layers:\n",
        "          x, attn_weights = layer(x)\n",
        "\n",
        "        x = x[:, 0]\n",
        "        if return_attn_weights:\n",
        "          return self.mlp_head(x), attn_weights\n",
        "        else:\n",
        "          return self.mlp_head(x)"
      ],
      "execution_count": null,
      "outputs": []
    },
    {
      "cell_type": "code",
      "metadata": {
        "colab": {
          "base_uri": "https://localhost:8080/"
        },
        "id": "Wwmz-_DNmazn",
        "outputId": "7e34bc5f-ed52-477c-9e09-3af962c8df62"
      },
      "source": [
        "test = ViTLayer(32, 8, 64, 64)\n",
        "test(torch.zeros((1, 32)))"
      ],
      "execution_count": null,
      "outputs": [
        {
          "output_type": "execute_result",
          "data": {
            "text/plain": [
              "(tensor([[-0.1842, -0.1639, -0.5239,  0.1584,  0.3175,  0.2925,  0.1613, -0.3884,\n",
              "          -0.0655,  0.1032,  0.4625,  0.0320, -0.2111, -0.5513, -0.1455,  0.0119,\n",
              "          -0.1305,  0.1362,  0.0932,  0.1014,  0.0137, -0.0074,  0.1792, -0.2867,\n",
              "          -0.0661, -0.2796,  0.3848,  0.2585, -0.3435, -0.4002,  0.0737, -0.1013]],\n",
              "        grad_fn=<AddBackward0>), tensor([[[1.]],\n",
              " \n",
              "         [[1.]],\n",
              " \n",
              "         [[1.]],\n",
              " \n",
              "         [[1.]],\n",
              " \n",
              "         [[1.]],\n",
              " \n",
              "         [[1.]],\n",
              " \n",
              "         [[1.]],\n",
              " \n",
              "         [[1.]]], grad_fn=<StackBackward0>))"
            ]
          },
          "metadata": {},
          "execution_count": 25
        }
      ]
    },
    {
      "cell_type": "code",
      "metadata": {
        "id": "IGD2JfImzOx4"
      },
      "source": [
        "model = ViT(patch_size=7, dim=64, depth=6, heads=8, mlp_dim=128)"
      ],
      "execution_count": null,
      "outputs": []
    },
    {
      "cell_type": "code",
      "metadata": {
        "colab": {
          "base_uri": "https://localhost:8080/",
          "height": 809
        },
        "id": "jPqp5lxTzPA0",
        "outputId": "cb2083f7-93ac-4b69-f977-fab879d5ba4e"
      },
      "source": [
        "trained_model, train_loss_history, valid_loss_history, valid_accuracy_history = run_training_loop(model, n_epochs=10)\n",
        "plt.plot(train_loss_history, label='train')\n",
        "plt.plot(valid_loss_history, label='valid')\n",
        "plt.legend()\n",
        "plt.show()\n",
        "\n",
        "test_performance(model)"
      ],
      "execution_count": null,
      "outputs": [
        {
          "output_type": "stream",
          "name": "stdout",
          "text": [
            "Train Epoch: 1  Average loss: 0.0106\n",
            "Valid set: Average loss: 0.0064, Accuracy: 11208/12000 (93.4000)\n",
            "\n",
            "Train Epoch: 2  Average loss: 0.0044\n",
            "Valid set: Average loss: 0.0062, Accuracy: 11296/12000 (94.1333)\n",
            "\n",
            "Train Epoch: 3  Average loss: 0.0035\n",
            "Valid set: Average loss: 0.0034, Accuracy: 11609/12000 (96.7417)\n",
            "\n",
            "Train Epoch: 4  Average loss: 0.0028\n",
            "Valid set: Average loss: 0.0038, Accuracy: 11548/12000 (96.2333)\n",
            "\n",
            "Train Epoch: 5  Average loss: 0.0025\n",
            "Valid set: Average loss: 0.0029, Accuracy: 11671/12000 (97.2583)\n",
            "\n",
            "Train Epoch: 6  Average loss: 0.0022\n",
            "Valid set: Average loss: 0.0028, Accuracy: 11654/12000 (97.1167)\n",
            "\n",
            "Train Epoch: 7  Average loss: 0.0021\n",
            "Valid set: Average loss: 0.0027, Accuracy: 11688/12000 (97.4000)\n",
            "\n",
            "Train Epoch: 8  Average loss: 0.0017\n",
            "Valid set: Average loss: 0.0024, Accuracy: 11729/12000 (97.7417)\n",
            "\n",
            "Train Epoch: 9  Average loss: 0.0016\n",
            "Valid set: Average loss: 0.0026, Accuracy: 11689/12000 (97.4083)\n",
            "\n",
            "Train Epoch: 10  Average loss: 0.0015\n",
            "Valid set: Average loss: 0.0024, Accuracy: 11724/12000 (97.7000)\n",
            "\n"
          ]
        },
        {
          "output_type": "display_data",
          "data": {
            "image/png": "[encoded data removed]",
            "text/plain": [
              "<Figure size 432x288 with 1 Axes>"
            ]
          },
          "metadata": {
            "needs_background": "light"
          }
        },
        {
          "output_type": "stream",
          "name": "stdout",
          "text": [
            "Test set: Average loss: 0.0021, Accuracy: 9798/10000 (97.9800)\n"
          ]
        },
        {
          "output_type": "execute_result",
          "data": {
            "text/plain": [
              "(0.002103428775811335, 0.9798)"
            ]
          },
          "metadata": {},
          "execution_count": 27
        }
      ]
    },
    {
      "cell_type": "code",
      "metadata": {
        "id": "tjWd-4pCnBPn"
      },
      "source": [
        "# Turning off automatic differentiation\n",
        "\n",
        "test_loader = torch.utils.data.DataLoader(test_dataset, batch_size=batch_size, shuffle=True) \n",
        "\n",
        "# Putting layers like Dropout into evaluation mode\n",
        "model.eval()\n",
        "\n",
        "\n",
        "with torch.no_grad():\n",
        "    for data, target in test_loader:\n",
        "        output, attn_weights = model(data, return_attn_weights=True)\n",
        "        break"
      ],
      "execution_count": null,
      "outputs": []
    },
    {
      "cell_type": "code",
      "metadata": {
        "colab": {
          "base_uri": "https://localhost:8080/"
        },
        "id": "EIIizJYpiakO",
        "outputId": "b998527b-a28f-4269-f4bb-f635ac881590"
      },
      "source": [
        "attn_weights.shape"
      ],
      "execution_count": null,
      "outputs": [
        {
          "output_type": "execute_result",
          "data": {
            "text/plain": [
              "torch.Size([8, 20, 17, 17])"
            ]
          },
          "metadata": {},
          "execution_count": 31
        }
      ]
    },
    {
      "cell_type": "code",
      "metadata": {
        "colab": {
          "base_uri": "https://localhost:8080/",
          "height": 703
        },
        "id": "ZTG8rIeYqEQH",
        "outputId": "d9c4a6d9-6d1e-4555-a3f4-61e0d6fe97ca"
      },
      "source": [
        "import seaborn as sns\n",
        "fig, axes = plt.subplots(3, 3, figsize=(14,12))\n",
        "for i in range(8):\n",
        "    sns.heatmap(torch.mean(attn_weights[i], dim=0), ax=axes.flatten()[i])\n",
        "axes[-1, -1].axis('off')\n",
        "plt.show()"
      ],
      "execution_count": null,
      "outputs": [
        {
          "output_type": "display_data",
          "data": {
            "image/png": "[encoded data removed]",
            "text/plain": [
              "<Figure size 1008x864 with 17 Axes>"
            ]
          },
          "metadata": {
            "needs_background": "light"
          }
        }
      ]
    }
  ]
}